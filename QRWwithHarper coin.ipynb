{
  "nbformat": 4,
  "nbformat_minor": 0,
  "metadata": {
    "colab": {
      "name": "Untitled8.ipynb",
      "provenance": [],
      "authorship_tag": "ABX9TyPmZMEmTAvEKuGyG1u5biLr",
      "include_colab_link": true
    },
    "kernelspec": {
      "name": "python3",
      "display_name": "Python 3"
    },
    "language_info": {
      "name": "python"
    }
  },
  "cells": [
    {
      "cell_type": "markdown",
      "metadata": {
        "id": "view-in-github",
        "colab_type": "text"
      },
      "source": [
        "<a href=\"https://colab.research.google.com/github/Sreekuttanls/QRW/blob/main/QRWwithHarper%20coin.ipynb\" target=\"_parent\"><img src=\"https://colab.research.google.com/assets/colab-badge.svg\" alt=\"Open In Colab\"/></a>"
      ]
    },
    {
      "cell_type": "code",
      "metadata": {
        "id": "cOV7hqrt1I76"
      },
      "source": [
        "import numpy as np, matplotlib.pyplot as plt, matplotlib as mpt, math, random, cmath \n",
        "from numpy.linalg import matrix_power \n",
        "import time \n",
        "from itertools import combinations\n",
        "\n",
        "def hrc(M,g) :\n",
        "    U_c = np.zeros([M,M], dtype=complex)\n",
        "    h = 1/M\n",
        "    fourier_sum = 0 + 0*1j\n",
        "    for m1 in range(M):\n",
        "        for m2 in range(M):\n",
        "            \n",
        "            for l in range(M):\n",
        "                fourier_sum += cmath.exp((-1j*g*M*math.cos(2*np.pi*h*l)))*cmath.exp(1j*2*math.pi*l*(m2-m1)*h)\n",
        "            U_c[m1][m2] = (1/M)*cmath.exp(-1j*M*math.cos(2*np.pi*m2*h))*fourier_sum\n",
        "            fourier_sum = 0\n",
        "    return U_c\n",
        "\n",
        "\n",
        "def e(u):\n",
        "    m=np.zeros([u,u],dtype=complex)\n",
        "    #print(m)\n",
        "    s=math.floor(u/2)\n",
        "    for l in range(s):\n",
        "        m[l][l]=1\n",
        "    return m\n",
        "\n",
        "def h(u):\n",
        "    m=np.zeros([u,u],dtype=complex)\n",
        "    #print(m)\n",
        "    s=math.floor(u/2)\n",
        "    for l in range(s,u):\n",
        "        m[l][l]=1\n",
        "    return m\n",
        "\n",
        "h = h(64)\n",
        "hrc = hrc(64,0.4)\n",
        "e = e(64)\n",
        "\n",
        "def uk(k,g,M,N):\n",
        "    u=np.zeros((M,M),dtype=complex)\n",
        "    u=(cmath.exp((1j*2*math.pi*k)/N)*np.dot(e,hrc))+(cmath.exp((-1j*2*math.pi*k)/N)*np.dot(h,hrc))\n",
        "       \n",
        "    return u  \n",
        "\n",
        "def qwalkprob(M,N,g,T):\n",
        "    start_time=time.time()\n",
        "    prob=np.zeros(N+1,dtype=complex)\n",
        "    nm=0+0*1j\n",
        "    halfn= math.floor(N/2)\n",
        "    \n",
        "    for n in range(-halfn,halfn+1):\n",
        "        #print(n)\n",
        "        for l,k in combinations(range(N+1),2):\n",
        "            #start_time=time.time()\n",
        "            x1 = np.linalg.inv(uk(l,g,M,N+1))\n",
        "            x1 = np.linalg.matrix_power(x1,T)\n",
        "            x2 = uk(k,g,M,N+1)\n",
        "            x2 = np.linalg.matrix_power(x2,T)\n",
        "            w1 = np.dot(x1,x2)\n",
        "            #print(w1)\n",
        "            \n",
        "            \n",
        "            #nm += np.dot(wx.T,we)*cmath.exp((1j*2*math.pi*n*(l-k)/N))\n",
        "            nm += w1[0][0]*cmath.exp((1j*2*math.pi*(n)*(l-k)/(N+1)))\n",
        "            #print(nm,l,k,n)\n",
        "\n",
        "        prob[n+halfn]=(nm)/((N+1)**2)\n",
        "        nm=0+0*1j\n",
        "    #print(prob)\n",
        "    f = prob\n",
        "    print(time.time()-start_time)\n",
        "    return f"
      ],
      "execution_count": 1,
      "outputs": []
    },
    {
      "cell_type": "code",
      "metadata": {
        "id": "_10Wvcye1NBy"
      },
      "source": [
        "M = 64\n",
        "N = 100\n",
        "K = 0.01\n",
        "T = 40\n",
        "halfn = math.floor(N/2)\n",
        "d = np.zeros(N+1, dtype=complex)\n",
        "v = np.zeros(N+1, dtype=complex)\n",
        "\n",
        "v = abs(qwalkprob(M,N,K,T))\n",
        "for i in range(N+1):\n",
        "    d[i]=-halfn+i\n",
        "    \n",
        "        \n",
        "print(np.sum(v))       \n",
        "plt.plot(d,v)\n",
        "#np.savetxt('test1.txt', v, delimiter=\" \", fmt=\"%s\")\n",
        "#fig.savefig('graph.png')\n",
        "print(v)"
      ],
      "execution_count": null,
      "outputs": []
    },
    {
      "cell_type": "code",
      "metadata": {
        "id": "IIpkBmAA1Pe-"
      },
      "source": [
        "M = 64\n",
        "N = 100\n",
        "K = 0.4\n",
        "T = 40\n",
        "halfn = math.floor(N/2)\n",
        "d = np.zeros(N+1, dtype=complex)\n",
        "v = np.zeros(N+1, dtype=complex)\n",
        "\n",
        "v = abs(qwalkprob(M,N,K,T))\n",
        "for i in range(N+1):\n",
        "    d[i]=-halfn+i\n",
        "    \n",
        "        \n",
        "print(np.sum(v))       \n",
        "plt.plot(d,v)\n",
        "#np.savetxt('test1.txt', v, delimiter=\" \", fmt=\"%s\")\n",
        "#fig.savefig('graph.png')\n",
        "print(v)"
      ],
      "execution_count": null,
      "outputs": []
    }
  ]
}